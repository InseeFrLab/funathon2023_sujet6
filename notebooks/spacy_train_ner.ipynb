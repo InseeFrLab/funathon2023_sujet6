{
 "cells": [
  {
   "cell_type": "code",
   "execution_count": null,
   "id": "a0f24cc9-bd39-4052-bab7-9a4ed3cff4e0",
   "metadata": {},
   "outputs": [],
   "source": [
    "!pip install spacy spacy-transformers"
   ]
  },
  {
   "cell_type": "code",
   "execution_count": null,
   "id": "2cd62223-e44d-4d6b-b625-bf79dc35e6ca",
   "metadata": {},
   "outputs": [],
   "source": [
    "!python -m spacy init fill-config ~/work/funathon2023_sujet6/notebooks/base_config.cfg config.cfg"
   ]
  },
  {
   "cell_type": "code",
   "execution_count": null,
   "id": "6ab7f3fe-12d5-41c3-b14d-cee764372902",
   "metadata": {},
   "outputs": [],
   "source": [
    "!python -m spacy download fr_core_news_sm"
   ]
  },
  {
   "cell_type": "code",
   "execution_count": null,
   "id": "9807f721-4e41-492f-bddb-498d49fbe439",
   "metadata": {},
   "outputs": [],
   "source": [
    "# KUDOS :  https://www.kaggle.com/code/kiruthigaa/ner-model-train-test-using-spacy-label-studio\n",
    "import json\n",
    "import numpy as np\n",
    "\n",
    "TRAIN_DATA = []\n",
    "\n",
    "def import_label_studio_data(filename):\n",
    "    with open(filename,'rb') as fp:\n",
    "        training_data = json.load(fp)\n",
    "    for text in training_data:\n",
    "        entities = []\n",
    "        info = text.get('text')\n",
    "        entities = []\n",
    "        if text.get('label') is not None:\n",
    "            list_ = []\n",
    "            for label in text.get('label'):\n",
    "                list_.append([label.get('start'), label.get('end')])\n",
    "            a = np.array(list_)\n",
    "            overlap_ind =[]\n",
    "            for i in range(0,len(a[:,0])):\n",
    "                a_comp = a[i]\n",
    "                x = np.delete(a, (i), axis=0)\n",
    "                overlap_flag = any([a_comp[0] in range(j[0], j[1]+1) for j in x])\n",
    "                if overlap_flag:\n",
    "                    overlap_ind.append(i)\n",
    "                    \n",
    "            for ind, label in enumerate(text.get('label')):\n",
    "                if ind in overlap_ind:\n",
    "                    iop=0\n",
    "                else:\n",
    "                    if label.get('labels') is not None:\n",
    "                        entities.append((label.get('start'), label.get('end') ,label.get('labels')[0]))\n",
    "        TRAIN_DATA.append((info, {\"entities\" : entities}))"
   ]
  },
  {
   "cell_type": "code",
   "execution_count": null,
   "id": "cf3ea0fc-2b35-41e2-ad14-e502c402b9d7",
   "metadata": {},
   "outputs": [],
   "source": [
    "TRAIN_DATA"
   ]
  },
  {
   "cell_type": "code",
   "execution_count": null,
   "id": "f6319a42-cce7-4d28-9317-6051df69c566",
   "metadata": {},
   "outputs": [],
   "source": [
    "import_label_studio_data(\"notebooks/toto.json\")"
   ]
  },
  {
   "cell_type": "code",
   "execution_count": null,
   "id": "953c38a6-e425-413a-a9e9-92d8c6587071",
   "metadata": {},
   "outputs": [],
   "source": [
    "import spacy\n",
    "# Load pre-existing spacy model\n",
    "nlp=spacy.load('fr_core_news_sm')\n",
    "ner=nlp.get_pipe(\"ner\")"
   ]
  },
  {
   "cell_type": "code",
   "execution_count": null,
   "id": "867ac0c3-3170-4874-a038-6c47987bd5ad",
   "metadata": {},
   "outputs": [],
   "source": [
    "model = None\n",
    "if model is not None:\n",
    "    nlp = spacy.load(model)  \n",
    "    print(\"Loaded model '%s'\" % model)\n",
    "else:\n",
    "    nlp = spacy.blank('fr')  \n",
    "    print(\"Created blank 'fr' model\")\n",
    "\n",
    "#set up the pipeline\n",
    "\n",
    "if 'ner' not in nlp.pipe_names:\n",
    "    ner = nlp.add_pipe('ner')\n",
    "#     nlp.add_pipe(ner, last=True)\n",
    "else:\n",
    "    ner = nlp.get_pipe('ner')"
   ]
  },
  {
   "cell_type": "code",
   "execution_count": null,
   "id": "c24c3360-6d48-4675-820a-209a9b45397f",
   "metadata": {},
   "outputs": [],
   "source": [
    "def train_test_split(data, test):\n",
    "    train_end = int(len(data) * (100-test)*0.01)\n",
    "    print(train_end)\n",
    "    test_start = int(len(data) * (100-test))+1\n",
    "    return data[0:train_end], data[train_end+1:len(data)]"
   ]
  },
  {
   "cell_type": "code",
   "execution_count": null,
   "id": "3f098a20-ca57-43b9-9037-9218c57d37af",
   "metadata": {},
   "outputs": [],
   "source": [
    "train_data, test_data = train_test_split(TRAIN_DATA, test=50)"
   ]
  },
  {
   "cell_type": "code",
   "execution_count": null,
   "id": "02380646-541a-4164-83fd-6993e4913eed",
   "metadata": {},
   "outputs": [],
   "source": [
    "import random\n",
    "from tqdm import tqdm\n",
    "from spacy.training.example import Example\n",
    "\n",
    "def train_ner_model(train_data_m,n_iter=1):\n",
    "    for _, annotations in train_data_m:\n",
    "        for ent in annotations.get('entities'):\n",
    "            ner.add_label(ent[2])\n",
    "    other_pipes = [pipe for pipe in nlp.pipe_names if pipe != 'ner']\n",
    "    with nlp.disable_pipes(*other_pipes):  # only train NER\n",
    "        optimizer = nlp.begin_training()\n",
    "        for itn in range(n_iter):\n",
    "            random.shuffle(train_data_m)\n",
    "            losses = {}\n",
    "            for text, annotations in tqdm(train_data_m):\n",
    "                doc = nlp.make_doc(text)\n",
    "                example = Example.from_dict(doc, annotations)\n",
    "                # Update the model\n",
    "                nlp.update([example], losses=losses, drop=0.2)\n",
    "            print(losses)\n",
    "        return nlp"
   ]
  },
  {
   "cell_type": "code",
   "execution_count": null,
   "id": "dbedde48-a5e6-4adf-8e94-e960f272e9f9",
   "metadata": {},
   "outputs": [],
   "source": [
    "nlp_model = train_ner_model(train_data,n_iter=20)"
   ]
  },
  {
   "cell_type": "code",
   "execution_count": null,
   "id": "c3c122c9-1f55-4fa8-aa28-d67b98556675",
   "metadata": {},
   "outputs": [],
   "source": [
    "for text, _ in test_data:\n",
    "    doc = nlp(text)\n",
    "    print('Entities', [(ent.text, ent.label_) for ent in doc.ents])"
   ]
  },
  {
   "cell_type": "code",
   "execution_count": null,
   "id": "cfa20d9b-221b-491e-8c12-eb1f189cb0be",
   "metadata": {},
   "outputs": [],
   "source": [
    "from spacy.scorer import Scorer\n",
    "def evaluate(nlp, examples):\n",
    "    scorer = Scorer()\n",
    "    example = []\n",
    "    for input_, annot in examples:\n",
    "        pred = nlp(input_)\n",
    "#         print(pred,annot)\n",
    "#         temp = Example.from_dict(pred, dict.fromkeys(annot))\n",
    "        temp = Example.from_dict(pred, annot)\n",
    "        example.append(temp)\n",
    "    scores = scorer.score(example)\n",
    "    return scores"
   ]
  },
  {
   "cell_type": "code",
   "execution_count": null,
   "id": "6c0110f1-d7db-4776-aed9-a93cf50e6f44",
   "metadata": {},
   "outputs": [],
   "source": [
    "results = evaluate(nlp, test_data)\n",
    "print(results)"
   ]
  },
  {
   "cell_type": "code",
   "execution_count": null,
   "id": "1aedba2d-73f8-45a4-98a8-4a0fadd006f4",
   "metadata": {},
   "outputs": [],
   "source": [
    "# Save model\n",
    "nlp.to_disk(\"ner_miam_spacy_nlp\")\n",
    "\n",
    "# Load model\n",
    "nlp2 = spacy.load(\"ner_miam_spacy_nlp\", exclude=['vocab']) "
   ]
  },
  {
   "cell_type": "code",
   "execution_count": null,
   "id": "8ab04996-5d2c-44d5-904c-6a37ade9d5c9",
   "metadata": {},
   "outputs": [],
   "source": [
    "results = evaluate(nlp2, test_data)\n",
    "print(results)"
   ]
  },
  {
   "cell_type": "code",
   "execution_count": null,
   "id": "2e12ad99-8e77-4dd7-84a4-fe0e2604c6c4",
   "metadata": {},
   "outputs": [],
   "source": [
    "#!python -m spacy convert ~/work/funathon2023_sujet6/notebooks/project-1-at-2023-06-28-05-57-2b65ac12.conll ~/work/funathon2023_sujet6/notebooks/  -n 10 -c iob -b fr_core_news_sm"
   ]
  },
  {
   "cell_type": "code",
   "execution_count": null,
   "id": "b9f19d05-31e4-4657-b10c-6774718c3ea8",
   "metadata": {},
   "outputs": [],
   "source": [
    "#!cat ~/work/funathon2023_sujet6/notebooks/project-1-at-2023-06-28-05-57-2b65ac12.conll"
   ]
  },
  {
   "cell_type": "code",
   "execution_count": null,
   "id": "5cfa0a2e-d75a-4c2c-a122-f847262a7e76",
   "metadata": {},
   "outputs": [],
   "source": [
    "#!python -m spacy convert ~/work/funathon2023_sujet6/notebooks/project-1-at-2023-06-28-06-22-b0447024.json ~/work/funathon2023_sujet6/notebooks/"
   ]
  }
 ],
 "metadata": {
  "kernelspec": {
   "display_name": "Python 3 (ipykernel)",
   "language": "python",
   "name": "python3"
  },
  "language_info": {
   "codemirror_mode": {
    "name": "ipython",
    "version": 3
   },
   "file_extension": ".py",
   "mimetype": "text/x-python",
   "name": "python",
   "nbconvert_exporter": "python",
   "pygments_lexer": "ipython3",
   "version": "3.10.9"
  }
 },
 "nbformat": 4,
 "nbformat_minor": 5
}
