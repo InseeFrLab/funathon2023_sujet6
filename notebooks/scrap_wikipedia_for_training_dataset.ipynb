{
 "cells": [
  {
   "cell_type": "code",
   "execution_count": null,
   "id": "71e3b0c3-bcf2-4456-bec4-9795cb71da7a",
   "metadata": {},
   "outputs": [],
   "source": [
    "!pip install beautifulsoup4"
   ]
  },
  {
   "cell_type": "code",
   "execution_count": null,
   "id": "1500e4ab-a9ef-4fd7-9d15-bcbc1ebecd57",
   "metadata": {},
   "outputs": [],
   "source": [
    "from bs4 import BeautifulSoup\n",
    "import requests as r\n",
    "import time"
   ]
  },
  {
   "cell_type": "code",
   "execution_count": null,
   "id": "9eacf83a-13dc-4b88-bc7e-79b54e333c64",
   "metadata": {},
   "outputs": [],
   "source": [
    "def scrap_wikipedia_keyword(keyword:str)->str:\n",
    "    str_keyword_html=keyword.replace(\" \",\"%20\")\n",
    "    req=r.get(f\"https://fr.wikipedia.org/wiki/{str_keyword_html}\")\n",
    "    soup = BeautifulSoup(req.text)\n",
    "    list_phrases = [element.text for element in soup.find_all(\"p\") if keyword in element.text.lower()]\n",
    "    if list_phrases :\n",
    "        return  list_phrases[0]\n",
    "    return \"\""
   ]
  },
  {
   "cell_type": "code",
   "execution_count": null,
   "id": "a9c2105f-f060-46d0-88ad-a2a35049de45",
   "metadata": {},
   "outputs": [],
   "source": [
    "with open(\"../data/ingredients.csv\",\"r\") as f:\n",
    "    list_ingredients=f.readlines()[1:]\n",
    "    list_ingredients=list(map(lambda x: x.replace(\"\\n\",\"\"),list_ingredients))"
   ]
  },
  {
   "cell_type": "code",
   "execution_count": null,
   "id": "0d0e26e6-211b-49c4-a220-7b33928978b3",
   "metadata": {},
   "outputs": [],
   "source": [
    "list_phrase_exemple=list()\n",
    "for ingredient in  list_ingredients:\n",
    "    print(f\"process {ingredient}\")\n",
    "    phrase=scrap_wikipedia_keyword(ingredient)\n",
    "    list_phrase_exemple.append((ingredient,phrase))\n",
    "    print(f\"finish {ingredient} in {phrase}\")\n",
    "    time.sleep(10)\n",
    "    "
   ]
  },
  {
   "cell_type": "code",
   "execution_count": null,
   "id": "188949be-b806-44d2-97df-added98b3ff2",
   "metadata": {},
   "outputs": [],
   "source": []
  }
 ],
 "metadata": {
  "kernelspec": {
   "display_name": "Python 3 (ipykernel)",
   "language": "python",
   "name": "python3"
  },
  "language_info": {
   "codemirror_mode": {
    "name": "ipython",
    "version": 3
   },
   "file_extension": ".py",
   "mimetype": "text/x-python",
   "name": "python",
   "nbconvert_exporter": "python",
   "pygments_lexer": "ipython3",
   "version": "3.10.9"
  }
 },
 "nbformat": 4,
 "nbformat_minor": 5
}
