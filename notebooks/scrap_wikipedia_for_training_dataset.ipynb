{
 "cells": [
  {
   "cell_type": "code",
   "execution_count": null,
   "id": "71e3b0c3-bcf2-4456-bec4-9795cb71da7a",
   "metadata": {},
   "outputs": [],
   "source": [
    "!pip install beautifulsoup4"
   ]
  },
  {
   "cell_type": "code",
   "execution_count": null,
   "id": "1500e4ab-a9ef-4fd7-9d15-bcbc1ebecd57",
   "metadata": {},
   "outputs": [],
   "source": [
    "from bs4 import BeautifulSoup\n",
    "import requests as r"
   ]
  },
  {
   "cell_type": "code",
   "execution_count": null,
   "id": "9eacf83a-13dc-4b88-bc7e-79b54e333c64",
   "metadata": {},
   "outputs": [],
   "source": [
    "def scrap_wikipedia_keyword(keyword:str)->str:\n",
    "    str_keyword_html=keyword.replace(\" \",\"%20\")\n",
    "    req=r.get(f\"https://fr.wikipedia.org/wiki/{str_keyword_html}\")\n",
    "    soup = BeautifulSoup(req.text)\n",
    "    return [element.text for element in soup.find_all(\"p\") if keyword in element.text.lower()][0]"
   ]
  },
  {
   "cell_type": "code",
   "execution_count": null,
   "id": "008ca115-235d-4109-86b3-96749d585c28",
   "metadata": {},
   "outputs": [],
   "source": [
    "scrap_wikipedia_keyword(\"vache qui rit\")"
   ]
  }
 ],
 "metadata": {
  "kernelspec": {
   "display_name": "Python 3 (ipykernel)",
   "language": "python",
   "name": "python3"
  },
  "language_info": {
   "codemirror_mode": {
    "name": "ipython",
    "version": 3
   },
   "file_extension": ".py",
   "mimetype": "text/x-python",
   "name": "python",
   "nbconvert_exporter": "python",
   "pygments_lexer": "ipython3",
   "version": "3.10.9"
  }
 },
 "nbformat": 4,
 "nbformat_minor": 5
}
