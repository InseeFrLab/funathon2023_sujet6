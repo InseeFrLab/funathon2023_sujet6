{
 "cells": [
  {
   "cell_type": "code",
   "execution_count": null,
   "id": "71e3b0c3-bcf2-4456-bec4-9795cb71da7a",
   "metadata": {},
   "outputs": [],
   "source": [
    "!pip install beautifulsoup4"
   ]
  },
  {
   "cell_type": "code",
   "execution_count": null,
   "id": "1500e4ab-a9ef-4fd7-9d15-bcbc1ebecd57",
   "metadata": {},
   "outputs": [],
   "source": [
    "from bs4 import BeautifulSoup\n",
    "import requests as r\n",
    "import time\n",
    "import pandas as pd"
   ]
  },
  {
   "cell_type": "code",
   "execution_count": null,
   "id": "9eacf83a-13dc-4b88-bc7e-79b54e333c64",
   "metadata": {},
   "outputs": [],
   "source": [
    "def scrap_wikipedia_keyword(keyword:str)->str:\n",
    "    str_keyword_html=keyword.replace(\" \",\"%20\")\n",
    "    req=r.get(f\"https://fr.wikipedia.org/wiki/{str_keyword_html}\")\n",
    "    soup = BeautifulSoup(req.text)\n",
    "    list_phrases = [element.text for element in soup.find_all(\"p\") if keyword.lower() in element.text.lower()]\n",
    "    if \"homonymie\" in req.text:\n",
    "        print(\"homonymie\")\n",
    "    if list_phrases :\n",
    "        return  list_phrases[0]\n",
    "    return \"\""
   ]
  },
  {
   "cell_type": "code",
   "execution_count": null,
   "id": "a9c2105f-f060-46d0-88ad-a2a35049de45",
   "metadata": {},
   "outputs": [],
   "source": [
    "with open(\"../data/ingredients.csv\",\"r\") as f:\n",
    "    list_ingredients=f.readlines()[1:]\n",
    "    list_ingredients=list(map(lambda x: x.replace(\"\\n\",\"\").lower(),list_ingredients))"
   ]
  },
  {
   "cell_type": "code",
   "execution_count": null,
   "id": "0d0e26e6-211b-49c4-a220-7b33928978b3",
   "metadata": {},
   "outputs": [],
   "source": [
    "list_phrase_exemple=list()\n",
    "df = pd.DataFrame(columns=[\"keyword\", \"sentence\", \"indexes\"],dtype=object)\n",
    "\n",
    "for ingredient in  list_ingredients:\n",
    "    print(f\"process {ingredient}\")\n",
    "    phrase=scrap_wikipedia_keyword(ingredient)\n",
    "    start=phrase.find(ingredient)\n",
    "    try:\n",
    "        new_line = {\n",
    "            \"keyword\": ingredient,\n",
    "            \"sentence\": phrase,\n",
    "            \"indexes\": (start,start+len(ingredient)),\n",
    "        }\n",
    "    except:\n",
    "        print(f\"bug {ingredient}\")\n",
    "            \n",
    "        \n",
    "    df_new_row = pd.DataFrame.from_records(data=new_line)\n",
    "    df = pd.concat([df, df_new_row])\n",
    "    print(f\"finish {ingredient} in {phrase}\")\n",
    "    time.sleep(1)\n",
    "    "
   ]
  },
  {
   "cell_type": "code",
   "execution_count": null,
   "id": "541a9673-a023-4474-81a3-222c49ec5d1e",
   "metadata": {},
   "outputs": [],
   "source": [
    "df2=df[[\"keyword\",\"sentence\"]]\n",
    "df2=df2.drop_duplicates()"
   ]
  },
  {
   "cell_type": "code",
   "execution_count": null,
   "id": "060d2dee-442c-4cb2-a8b4-be40fefc6e88",
   "metadata": {},
   "outputs": [],
   "source": [
    "df2"
   ]
  },
  {
   "cell_type": "code",
   "execution_count": null,
   "id": "ab1b1423-0b92-49a3-b6ba-0313c7336c75",
   "metadata": {},
   "outputs": [],
   "source": [
    "df2[\"indexes\"]=df2[[\"keyword\",\"sentence\"]].apply(lambda x : x[\"sentence\"].lower().find(x[\"keyword\"]),axis=1)\n",
    "df2[\"indexes2\"]=df2[[\"keyword\",\"indexes\"]].apply(lambda x : x[\"indexes\"]+len(x[\"keyword\"]),axis=1)"
   ]
  },
  {
   "cell_type": "code",
   "execution_count": null,
   "id": "53bb0e5e-a9a6-4db2-b6a2-cc0b45c3f9a0",
   "metadata": {},
   "outputs": [],
   "source": [
    "df2.to_parquet(\"train_data.parquet\")"
   ]
  },
  {
   "cell_type": "code",
   "execution_count": null,
   "id": "c3330398-19f2-4e60-9bcc-467d69b853d8",
   "metadata": {},
   "outputs": [],
   "source": [
    "#training_data = [\n",
    "#  (\"Tokyo Tower is 333m tall.\", [(0, 11, \"BUILDING\")]),\n",
    "#]\n"
   ]
  },
  {
   "cell_type": "code",
   "execution_count": null,
   "id": "11dc0f50-9dc9-4636-8b33-48a93b51c614",
   "metadata": {},
   "outputs": [],
   "source": [
    "with open(\"sentence.txt\",\"w\") as file_to_write:\n",
    "    file_to_write.write(\"\".join(list(df2[\"sentence\"])))"
   ]
  }
 ],
 "metadata": {
  "kernelspec": {
   "display_name": "Python 3 (ipykernel)",
   "language": "python",
   "name": "python3"
  },
  "language_info": {
   "codemirror_mode": {
    "name": "ipython",
    "version": 3
   },
   "file_extension": ".py",
   "mimetype": "text/x-python",
   "name": "python",
   "nbconvert_exporter": "python",
   "pygments_lexer": "ipython3",
   "version": "3.10.9"
  }
 },
 "nbformat": 4,
 "nbformat_minor": 5
}
